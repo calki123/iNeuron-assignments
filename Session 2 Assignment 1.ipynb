{
 "cells": [
  {
   "cell_type": "raw",
   "metadata": {
    "collapsed": false
   },
   "source": [
    "Session 2: Assignment 1 Question"
   ]
  },
  {
   "cell_type": "raw",
   "metadata": {
    "collapsed": false
   },
   "source": [
    "Task 1:"
   ]
  },
  {
   "cell_type": "raw",
   "metadata": {
    "collapsed": false
   },
   "source": [
    "(1.1) Write a Python Program to implement your own myreduce() function which works exactly like Python's built-in function reduce()."
   ]
  },
  {
   "cell_type": "code",
   "execution_count": 40,
   "metadata": {
    "collapsed": false
   },
   "outputs": [
    {
     "name": "stdout",
     "output_type": "stream",
     "text": [
      "10\n",
      "4\n"
     ]
    }
   ],
   "source": [
    "def sum(a,b):\n",
    "    return a+b\n",
    "def max(a,b):\n",
    "    return(a if a>b else b)\n",
    "def myreduce(fun,li):\n",
    "    result=li[0]\n",
    "    for i in li[1:]:\n",
    "        result=fun(result,i)\n",
    "    return result\n",
    "print(myreduce(sum,[1,2,3,4]))\n",
    "print(myreduce(max,[1,2,3,4]))"
   ]
  },
  {
   "cell_type": "raw",
   "metadata": {
    "collapsed": false
   },
   "source": [
    "(1.2) Write a Python program to implement your own myfilter() function which works exactly like Python's built-in function filter()."
   ]
  },
  {
   "cell_type": "code",
   "execution_count": 49,
   "metadata": {
    "collapsed": false
   },
   "outputs": [
    {
     "name": "stdout",
     "output_type": "stream",
     "text": [
      "['a', 'e', 'o']\n",
      "[1, 3, 5, 7, 9]\n"
     ]
    }
   ],
   "source": [
    "def vowel(x):\n",
    "    v1=[\"a\",\"e\",\"i\",\"o\",\"u\"]\n",
    "    if(x not in v1):\n",
    "        pass\n",
    "    else:\n",
    "        return x\n",
    "def odd(x):\n",
    "    if(x%2==0):\n",
    "        pass\n",
    "    else:\n",
    "        return x\n",
    "def myfilter(fun,li):\n",
    "    b=[]\n",
    "    for i in li:\n",
    "        if(fun(i)):\n",
    "            b.append(i)\n",
    "    return b\n",
    "print(myfilter(vowel,[\"a\",\"b\",\"c\",\"d\",\"e\",\"o\"]))\n",
    "print(myfilter(odd,[1,2,3,4,5,6,7,8,9,10]))"
   ]
  },
  {
   "cell_type": "raw",
   "metadata": {
    "collapsed": false
   },
   "source": [
    "(2) Implement List comprehensions to produce the following lists.\n",
    "Write List comprehensions to produce the following Lists\n",
    "['A', 'C', 'A', 'D', 'G', 'I', ’L’, ‘ D’]\n",
    "\n",
    "['x', 'xx', 'xxx', 'xxxx', 'y', 'yy', 'yyy', 'yyyy', 'z', 'zz', 'zzz', 'zzzz']\n",
    "\n",
    "['x', 'y', 'z', 'xx', 'yy', 'zz', 'xx', 'yy', 'zz', 'xxxx', 'yyyy', 'zzzz']\n",
    "\n",
    "[[2], [3], [4], [3], [4], [5], [4], [5], [6]]\n",
    "\n",
    "[[2, 3, 4, 5], [3, 4, 5, 6], [4, 5, 6, 7], [5, 6, 7, 8]]\n",
    "\n",
    "[(1, 1), (2, 1), (3, 1), (1, 2), (2, 2), (3, 2), (1, 3), (2, 3), (3, 3)]"
   ]
  },
  {
   "cell_type": "code",
   "execution_count": 21,
   "metadata": {
    "collapsed": false
   },
   "outputs": [
    {
     "name": "stdout",
     "output_type": "stream",
     "text": [
      "['A', 'C', 'A', 'D', 'G', 'I', 'L', 'D']\n",
      "['x', 'xx', 'xxx', 'xxxx', 'y', 'yy', 'yyy', 'yyyy', 'z', 'zz', 'zzz', 'zzzz']\n",
      "['x', 'y', 'z', 'xx', 'yy', 'zz', 'xxx', 'yyy', 'zzz', 'xxxx', 'yyyy', 'zzzz']\n",
      "[[2], [3], [4], [3], [4], [5], [4], [5], [6]]\n",
      "[[2, 3, 4, 5], [3, 4, 5, 6], [4, 5, 6, 7], [5, 6, 7, 8]]\n",
      "[(1, 1), (2, 1), (3, 1), (1, 2), (2, 2), (3, 2), (1, 3), (2, 3), (3, 3)]\n"
     ]
    }
   ],
   "source": [
    "#1st list\n",
    "word=\"ACADGILD\"\n",
    "alpha_list=[]\n",
    "for i in word:\n",
    "    alpha_list.append(i)\n",
    "print(alpha_list)\n",
    "\n",
    "#2nd list\n",
    "l1=[\"x\",\"y\",\"z\"]\n",
    "l2=[]\n",
    "for i in l1:\n",
    "    for j in range(1,5):\n",
    "        l2.append(i*j)\n",
    "print(l2)\n",
    "\n",
    "\n",
    "#3rd list\n",
    "l3=[]\n",
    "for i in range(1,5):\n",
    "    for j in l1:\n",
    "        l3.append(j*i)\n",
    "print(l3)\n",
    "\n",
    "#4th list\n",
    "l4=[2,3,4]\n",
    "l5=[]\n",
    "for i in l4:\n",
    "    for j in range(3):\n",
    "        l5.append([i+j])\n",
    "print(l5)\n",
    "\n",
    "#5th list\n",
    "l6=[2,3,4,5]\n",
    "l7=[]\n",
    "for i1 in range(0,4):\n",
    "    a=list(map(lambda x:x+i1,l6))\n",
    "    l7.append(a)\n",
    "print(l7)\n",
    "\n",
    "#6th list\n",
    "l8=[1,2,3]\n",
    "l9=[1,2,3]\n",
    "l10=[]\n",
    "for i2 in l8:\n",
    "    for j2 in l9:\n",
    "        l10.append((j2,i2))\n",
    "print(l10)"
   ]
  },
  {
   "cell_type": "raw",
   "metadata": {
    "collapsed": false
   },
   "source": [
    "(3) Implement a function longestWord() that takes a list of words and returns the longest one."
   ]
  },
  {
   "cell_type": "code",
   "execution_count": 5,
   "metadata": {
    "collapsed": false
   },
   "outputs": [
    {
     "data": {
      "text/plain": [
       "'elephant'"
      ]
     },
     "execution_count": 5,
     "metadata": {
     },
     "output_type": "execute_result"
    }
   ],
   "source": [
    "def longestWord(l):\n",
    "    max_lenght=[]\n",
    "    for i in l:\n",
    "        max_lenght.append((len(i),i))\n",
    "    max_lenght.sort()\n",
    "    return max_lenght[-1][1]\n",
    "longestWord([\"hey\",\"hi\",\"elephant\",\"black\"])"
   ]
  },
  {
   "cell_type": "raw",
   "metadata": {
    "collapsed": false
   },
   "source": [
   ]
  },
  {
   "cell_type": "raw",
   "metadata": {
    "collapsed": false
   },
   "source": [
    "Task 2:"
   ]
  },
  {
   "cell_type": "raw",
   "metadata": {
    "collapsed": false
   },
   "source": [
    "(1.1) Write a Python Program(with class concepts) to find the area of the triangle using the below formula.\n",
    "\n",
    "area = (s*(s-a)*(s-b)*(s-c)) ** 0.5\n",
    "\n",
    "Function to take the length of the sides of triangle from user should be defined in the parent class and function to calculate the area should be defined in subclass."
   ]
  },
  {
   "cell_type": "code",
   "execution_count": 7,
   "metadata": {
    "cocalc": {
     "outputs": {
      "0": {
       "name": "input",
       "opts": {
        "password": false,
        "prompt": "a:"
       },
       "output_type": "stream",
       "value": "3"
      },
      "1": {
       "name": "input",
       "opts": {
        "password": false,
        "prompt": "b:"
       },
       "output_type": "stream",
       "value": "4"
      },
      "2": {
       "name": "input",
       "opts": {
        "password": false,
        "prompt": "c:"
       },
       "output_type": "stream",
       "value": "5"
      }
     }
    },
    "collapsed": false
   },
   "outputs": [
    {
     "name": "stdout",
     "output_type": "stream",
     "text": "a: 3"
    },
    {
     "name": "stdout",
     "output_type": "stream",
     "text": "b: 4"
    },
    {
     "name": "stdout",
     "output_type": "stream",
     "text": "c: 5"
    },
    {
     "data": {
      "text/plain": [
       "6.0"
      ]
     },
     "execution_count": 7,
     "metadata": {
     },
     "output_type": "execute_result"
    }
   ],
   "source": [
    "class parent:\n",
    "    def __init__(self,a,b,c):\n",
    "        self.a=a\n",
    "        self.b=b\n",
    "        self.c=c\n",
    "    a=int(input(\"a:\"))\n",
    "    b=int(input(\"b:\"))\n",
    "    c=int(input(\"c:\"))\n",
    "class subclass(parent):\n",
    "    def __init__(self,a,b,c):\n",
    "        parent.__init__(self,a,b,c)\n",
    "    def triangle(self):\n",
    "        s=(self.a+self.b+self.c)/2\n",
    "        return(s*(s-self.a)*(s-self.b)*(s-self.c))**0.5\n",
    "x=subclass(parent.a,parent.b,parent.c)\n",
    "x.triangle()"
   ]
  },
  {
   "cell_type": "raw",
   "metadata": {
    "collapsed": false
   },
   "source": [
    "(1.2) Write a function filter_long_words() that takes a list of words and an integer n and returns the list of words that are longer than n."
   ]
  },
  {
   "cell_type": "code",
   "execution_count": 3,
   "metadata": {
    "collapsed": false
   },
   "outputs": [
    {
     "name": "stdout",
     "output_type": "stream",
     "text": [
      "['elephant', 'orange', 'yellow']\n"
     ]
    }
   ],
   "source": [
    "def filter_long_words(lists_of_words,n):\n",
    "    l1=[]\n",
    "    for i in lists_of_words:\n",
    "        if(len(i)>n):\n",
    "            l1.append(i)\n",
    "    return l1\n",
    "print(filter_long_words([\"black\",\"blue\",\"elephant\",\"orange\",\"hi\",\"yellow\"],5))"
   ]
  },
  {
   "cell_type": "raw",
   "metadata": {
    "collapsed": false
   },
   "source": [
    "(2.1) Write a Python program using function concept that maps  list of words into a list of integers representing the lengths of the corresponding words."
   ]
  },
  {
   "cell_type": "code",
   "execution_count": 6,
   "metadata": {
    "collapsed": false
   },
   "outputs": [
    {
     "name": "stdout",
     "output_type": "stream",
     "text": [
      "[5, 4, 8, 6, 2, 6]\n"
     ]
    }
   ],
   "source": [
    "def lengths_of_words(list_of_words):\n",
    "    l1=[]\n",
    "    for i in list_of_words:\n",
    "        l1.append(len(i))\n",
    "    return l1\n",
    "print(lengths_of_words([\"black\",\"blue\",\"elephant\",\"orange\",\"hi\",\"yellow\"]))"
   ]
  },
  {
   "cell_type": "raw",
   "metadata": {
    "collapsed": false
   },
   "source": [
    "(2.2) Write a Python function which takes a character (i.e. a string of length 1) and returns True if it is a vowel, False otherwise."
   ]
  },
  {
   "cell_type": "code",
   "execution_count": 9,
   "metadata": {
    "cocalc": {
     "outputs": {
      "0": {
       "name": "input",
       "opts": {
        "password": false,
        "prompt": "enter only character:"
       },
       "output_type": "stream",
       "value": "a"
      }
     }
    },
    "collapsed": false
   },
   "outputs": [
    {
     "name": "stdout",
     "output_type": "stream",
     "text": "enter only character: a"
    },
    {
     "name": "stdout",
     "output_type": "stream",
     "text": [
      "True\n"
     ]
    }
   ],
   "source": [
    "a=input(\"enter only character:\")\n",
    "def vowel(char1):\n",
    "    l1=[\"a\",\"e\",\"i\",\"o\",\"u\",\"A\",\"E\",\"I\",\"O\",\"U\"]\n",
    "    if(char1 in l1):\n",
    "        return True\n",
    "    else:\n",
    "        return False\n",
    "print(vowel(a))"
   ]
  }
 ],
 "metadata": {
  "kernelspec": {
   "display_name": "Python 3 (system-wide)",
   "language": "python",
   "metadata": {
    "cocalc": {
     "description": "Python 3 programming language",
     "priority": 100,
     "url": "https://www.python.org/"
    }
   },
   "name": "python3"
  },
  "language_info": {
   "codemirror_mode": {
    "name": "ipython",
    "version": 3
   },
   "file_extension": ".py",
   "mimetype": "text/x-python",
   "name": "python",
   "nbconvert_exporter": "python",
   "pygments_lexer": "ipython3",
   "version": "3.6.9"
  }
 },
 "nbformat": 4,
 "nbformat_minor": 4
}